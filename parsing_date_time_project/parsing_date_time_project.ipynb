{
 "cells": [
  {
   "cell_type": "markdown",
   "metadata": {},
   "source": [
    "# Data Cleaning Process\n",
    "\n",
    "## Categorical vs. Numerical\n",
    "\n",
    "| **Categorical**                                   | **Numerical**                                  |\n",
    "|---------------------------------------------------|------------------------------------------------|\n",
    "| Finite number of groups or categories. Also known as **Qualitative** data | Expressed using numerical values. Also known as **Quantitative** data. Represents measurements (e.g., height)               |\n",
    "\n",
    "## Categorical Variables: Ordinal vs. Nominal\n",
    "\n",
    "| **Ordinal**                                   | **Nominal**                                   |\n",
    "|---------------------------------------------------|-------------------------------------------|\n",
    "| Categorical variables that have a **natural order**. <br> E.g.: Strongly Disagree ... Strongly Agree | Categorical variables **without order**. <br> E.g.: Blue, Red, ... |"
   ]
  },
  {
   "cell_type": "markdown",
   "metadata": {},
   "source": [
    "## Our dataset\n",
    "\n",
    "| Column                   | Description                                                                      |\n",
    "|------------------------- |--------------------------------------------------------------------------------- |\n",
    "| `student_id`             | A unique ID for each student.                                                    |\n",
    "| `city`                   | A code for the city the student lives in.                                        |\n",
    "| `city_development_index` | A scaled development index for the city.                                         |\n",
    "| `gender`                 | The student's gender.                                                            |\n",
    "| `relevant_experience`    | An indicator of the student's work relevant experience.                          |\n",
    "| `enrolled_university`    | The type of university course enrolled in (if any).                              |\n",
    "| `education_level`        | The student's education level.                                                   |\n",
    "| `major_discipline`       | The educational discipline of the student.                                       |\n",
    "| `experience`             | The student's total work experience (in years).                                  |\n",
    "| `company_size`           | The number of employees at the student's current employer.                       |\n",
    "| `company_type`           | The type of company employing the student.                                       |\n",
    "| `last_new_job`           | The number of years between the student's current and previous jobs.             |\n",
    "| `training_hours`         | The number of hours of training completed.                                       |\n",
    "| `job_change`             | An indicator of whether the student is looking for a new job (`1`) or not (`0`). |"
   ]
  },
  {
   "cell_type": "markdown",
   "metadata": {},
   "source": [
    "## Importing Libraries and Loading Data"
   ]
  },
  {
   "cell_type": "code",
   "execution_count": 1,
   "metadata": {},
   "outputs": [
    {
     "data": {
      "text/html": [
       "<div>\n",
       "<style scoped>\n",
       "    .dataframe tbody tr th:only-of-type {\n",
       "        vertical-align: middle;\n",
       "    }\n",
       "\n",
       "    .dataframe tbody tr th {\n",
       "        vertical-align: top;\n",
       "    }\n",
       "\n",
       "    .dataframe thead th {\n",
       "        text-align: right;\n",
       "    }\n",
       "</style>\n",
       "<table border=\"1\" class=\"dataframe\">\n",
       "  <thead>\n",
       "    <tr style=\"text-align: right;\">\n",
       "      <th></th>\n",
       "      <th>student_id</th>\n",
       "      <th>city</th>\n",
       "      <th>city_development_index</th>\n",
       "      <th>gender</th>\n",
       "      <th>relevant_experience</th>\n",
       "      <th>enrolled_university</th>\n",
       "      <th>education_level</th>\n",
       "      <th>major_discipline</th>\n",
       "      <th>experience</th>\n",
       "      <th>company_size</th>\n",
       "      <th>company_type</th>\n",
       "      <th>last_new_job</th>\n",
       "      <th>training_hours</th>\n",
       "      <th>job_change</th>\n",
       "    </tr>\n",
       "  </thead>\n",
       "  <tbody>\n",
       "    <tr>\n",
       "      <th>0</th>\n",
       "      <td>8949</td>\n",
       "      <td>city_103</td>\n",
       "      <td>0.920</td>\n",
       "      <td>Male</td>\n",
       "      <td>Has relevant experience</td>\n",
       "      <td>no_enrollment</td>\n",
       "      <td>Graduate</td>\n",
       "      <td>STEM</td>\n",
       "      <td>&gt;20</td>\n",
       "      <td>NaN</td>\n",
       "      <td>NaN</td>\n",
       "      <td>1</td>\n",
       "      <td>36</td>\n",
       "      <td>1.0</td>\n",
       "    </tr>\n",
       "    <tr>\n",
       "      <th>1</th>\n",
       "      <td>29725</td>\n",
       "      <td>city_40</td>\n",
       "      <td>0.776</td>\n",
       "      <td>Male</td>\n",
       "      <td>No relevant experience</td>\n",
       "      <td>no_enrollment</td>\n",
       "      <td>Graduate</td>\n",
       "      <td>STEM</td>\n",
       "      <td>15</td>\n",
       "      <td>50-99</td>\n",
       "      <td>Pvt Ltd</td>\n",
       "      <td>&gt;4</td>\n",
       "      <td>47</td>\n",
       "      <td>0.0</td>\n",
       "    </tr>\n",
       "    <tr>\n",
       "      <th>2</th>\n",
       "      <td>11561</td>\n",
       "      <td>city_21</td>\n",
       "      <td>0.624</td>\n",
       "      <td>NaN</td>\n",
       "      <td>No relevant experience</td>\n",
       "      <td>Full time course</td>\n",
       "      <td>Graduate</td>\n",
       "      <td>STEM</td>\n",
       "      <td>5</td>\n",
       "      <td>NaN</td>\n",
       "      <td>NaN</td>\n",
       "      <td>never</td>\n",
       "      <td>83</td>\n",
       "      <td>0.0</td>\n",
       "    </tr>\n",
       "    <tr>\n",
       "      <th>3</th>\n",
       "      <td>33241</td>\n",
       "      <td>city_115</td>\n",
       "      <td>0.789</td>\n",
       "      <td>NaN</td>\n",
       "      <td>No relevant experience</td>\n",
       "      <td>NaN</td>\n",
       "      <td>Graduate</td>\n",
       "      <td>Business Degree</td>\n",
       "      <td>&lt;1</td>\n",
       "      <td>NaN</td>\n",
       "      <td>Pvt Ltd</td>\n",
       "      <td>never</td>\n",
       "      <td>52</td>\n",
       "      <td>1.0</td>\n",
       "    </tr>\n",
       "    <tr>\n",
       "      <th>4</th>\n",
       "      <td>666</td>\n",
       "      <td>city_162</td>\n",
       "      <td>0.767</td>\n",
       "      <td>Male</td>\n",
       "      <td>Has relevant experience</td>\n",
       "      <td>no_enrollment</td>\n",
       "      <td>Masters</td>\n",
       "      <td>STEM</td>\n",
       "      <td>&gt;20</td>\n",
       "      <td>50-99</td>\n",
       "      <td>Funded Startup</td>\n",
       "      <td>4</td>\n",
       "      <td>8</td>\n",
       "      <td>0.0</td>\n",
       "    </tr>\n",
       "  </tbody>\n",
       "</table>\n",
       "</div>"
      ],
      "text/plain": [
       "   student_id      city  city_development_index gender  \\\n",
       "0        8949  city_103                   0.920   Male   \n",
       "1       29725   city_40                   0.776   Male   \n",
       "2       11561   city_21                   0.624    NaN   \n",
       "3       33241  city_115                   0.789    NaN   \n",
       "4         666  city_162                   0.767   Male   \n",
       "\n",
       "       relevant_experience enrolled_university education_level  \\\n",
       "0  Has relevant experience       no_enrollment        Graduate   \n",
       "1   No relevant experience       no_enrollment        Graduate   \n",
       "2   No relevant experience    Full time course        Graduate   \n",
       "3   No relevant experience                 NaN        Graduate   \n",
       "4  Has relevant experience       no_enrollment         Masters   \n",
       "\n",
       "  major_discipline experience company_size    company_type last_new_job  \\\n",
       "0             STEM        >20          NaN             NaN            1   \n",
       "1             STEM         15        50-99         Pvt Ltd           >4   \n",
       "2             STEM          5          NaN             NaN        never   \n",
       "3  Business Degree         <1          NaN         Pvt Ltd        never   \n",
       "4             STEM        >20        50-99  Funded Startup            4   \n",
       "\n",
       "   training_hours  job_change  \n",
       "0              36         1.0  \n",
       "1              47         0.0  \n",
       "2              83         0.0  \n",
       "3              52         1.0  \n",
       "4               8         0.0  "
      ]
     },
     "execution_count": 1,
     "metadata": {},
     "output_type": "execute_result"
    }
   ],
   "source": [
    "# Import necessary libraries\n",
    "import pandas as pd\n",
    "\n",
    "# Load the dataset\n",
    "ds_jobs = pd.read_csv(\"C:/Users/caiov/OneDrive - UCLA IT Services/Documentos/DataScience/Repositories/cleaning-categorical-data-best-practices/data/customer_not_efficient.csv\")\n",
    "\n",
    "# View the dataset\n",
    "ds_jobs.head()"
   ]
  },
  {
   "cell_type": "code",
   "execution_count": 2,
   "metadata": {},
   "outputs": [],
   "source": [
    "# Create a copy of ds_jobs for transforming\n",
    "ds_jobs_transformed = ds_jobs.copy()"
   ]
  },
  {
   "cell_type": "markdown",
   "metadata": {},
   "source": [
    "## Cleaning Procedures"
   ]
  },
  {
   "cell_type": "markdown",
   "metadata": {},
   "source": [
    "### Exploring Data Types"
   ]
  },
  {
   "cell_type": "code",
   "execution_count": 3,
   "metadata": {},
   "outputs": [
    {
     "name": "stdout",
     "output_type": "stream",
     "text": [
      "<class 'pandas.core.frame.DataFrame'>\n",
      "RangeIndex: 19158 entries, 0 to 19157\n",
      "Data columns (total 14 columns):\n",
      " #   Column                  Non-Null Count  Dtype  \n",
      "---  ------                  --------------  -----  \n",
      " 0   student_id              19158 non-null  int64  \n",
      " 1   city                    19158 non-null  object \n",
      " 2   city_development_index  19158 non-null  float64\n",
      " 3   gender                  14650 non-null  object \n",
      " 4   relevant_experience     19158 non-null  object \n",
      " 5   enrolled_university     18772 non-null  object \n",
      " 6   education_level         18698 non-null  object \n",
      " 7   major_discipline        16345 non-null  object \n",
      " 8   experience              19093 non-null  object \n",
      " 9   company_size            13220 non-null  object \n",
      " 10  company_type            13018 non-null  object \n",
      " 11  last_new_job            18735 non-null  object \n",
      " 12  training_hours          19158 non-null  int64  \n",
      " 13  job_change              19158 non-null  float64\n",
      "dtypes: float64(2), int64(2), object(10)\n",
      "memory usage: 2.0+ MB\n"
     ]
    }
   ],
   "source": [
    "ds_jobs_transformed.info()"
   ]
  },
  {
   "cell_type": "markdown",
   "metadata": {},
   "source": [
    "### Numeric Columns"
   ]
  },
  {
   "cell_type": "code",
   "execution_count": 4,
   "metadata": {},
   "outputs": [],
   "source": [
    "# List of Numeric Columns\n",
    "# Note: job_change should be a categorical column and not a numeric column\n",
    "\n",
    "numeric_columns = ['student_id', 'city_development_index', 'training_hours']"
   ]
  },
  {
   "cell_type": "markdown",
   "metadata": {},
   "source": [
    "### Converting Procedures\n",
    "\n",
    "| **Integer Columns**               | **Float Columns**             |\n",
    "|-----------------------------------|-------------------------------|\n",
    "| Store as 32-bit integers (`int32`) | Store as 16-bit floats (`float16`) |\n"
   ]
  },
  {
   "cell_type": "code",
   "execution_count": 5,
   "metadata": {},
   "outputs": [
    {
     "name": "stdout",
     "output_type": "stream",
     "text": [
      "student_id                  int32\n",
      "city_development_index    float16\n",
      "training_hours              int32\n",
      "dtype: object\n"
     ]
    }
   ],
   "source": [
    "# Convert the numeric columns according to the table above\n",
    "\n",
    "for col in ds_jobs_transformed[numeric_columns]:\n",
    "    if pd.api.types.is_integer_dtype(ds_jobs_transformed[col]):\n",
    "        ds_jobs_transformed[col] = ds_jobs_transformed[col].astype('int32')\n",
    "    elif pd.api.types.is_float_dtype(ds_jobs_transformed[col]):\n",
    "        ds_jobs_transformed[col] = ds_jobs_transformed[col].astype('float16')\n",
    "\n",
    "print(ds_jobs_transformed[numeric_columns].dtypes)"
   ]
  },
  {
   "cell_type": "code",
   "execution_count": 6,
   "metadata": {},
   "outputs": [
    {
     "name": "stdout",
     "output_type": "stream",
     "text": [
      "['city', 'gender', 'relevant_experience', 'enrolled_university', 'education_level', 'major_discipline', 'experience', 'company_size', 'company_type', 'last_new_job', 'job_change']\n"
     ]
    }
   ],
   "source": [
    "# List of Categorical Columns\n",
    "categorical_columns = list(ds_jobs_transformed.select_dtypes(include=['object', 'category']).columns)\n",
    "\n",
    "# Including `job_change` in the list of categorical columns\n",
    "categorical_columns = categorical_columns + ['job_change']\n",
    "\n",
    "print(categorical_columns)"
   ]
  },
  {
   "cell_type": "code",
   "execution_count": 7,
   "metadata": {},
   "outputs": [
    {
     "data": {
      "text/plain": [
       "city                   123\n",
       "gender                   3\n",
       "relevant_experience      2\n",
       "enrolled_university      3\n",
       "education_level          5\n",
       "major_discipline         6\n",
       "experience              22\n",
       "company_size             8\n",
       "company_type             6\n",
       "last_new_job             6\n",
       "job_change               2\n",
       "dtype: int64"
      ]
     },
     "execution_count": 7,
     "metadata": {},
     "output_type": "execute_result"
    }
   ],
   "source": [
    "ds_jobs_transformed[categorical_columns].nunique()"
   ]
  },
  {
   "cell_type": "code",
   "execution_count": 8,
   "metadata": {},
   "outputs": [],
   "source": [
    "# Separating Categorical Columns by its nature\n",
    "ls_categorical_bool = ['relevant_experience', 'job_change']\n",
    "ls_categorical_with_order = ['enrolled_university', 'education_level', 'experience', 'company_size', 'last_new_job']\n",
    "ls_categorical_no_order = ['city', 'gender', 'major_discipline', 'company_type']"
   ]
  },
  {
   "cell_type": "markdown",
   "metadata": {},
   "source": [
    "### Converting Procedures\n",
    "\n",
    "| **Converting Categorical Data**                                                                                  |\n",
    "|------------------------------------------------------------------------------------------------------------------|\n",
    "| (Two-factor categories) Data w/ **2 categories**: yes/no → Convert to `bool`                                     |\n",
    "| (Ordinal Data) Data w/ **> 2 categories** and **natural ordering** → Convert to `ordered category`               |\n",
    "| (Nominal data) Data w/ **few unique values** and **no natural ordering** → Convert to `category`                 |"
   ]
  },
  {
   "cell_type": "code",
   "execution_count": 9,
   "metadata": {},
   "outputs": [
    {
     "name": "stdout",
     "output_type": "stream",
     "text": [
      "relevant_experience:  ['Has relevant experience' 'No relevant experience']\n",
      "job_change:  [1. 0.]\n"
     ]
    }
   ],
   "source": [
    "# Two-factor Categories (mapping to boolean)\n",
    "print(\"relevant_experience: \", ds_jobs_transformed['relevant_experience'].unique())\n",
    "print(\"job_change: \", ds_jobs_transformed['job_change'].unique())\n",
    "\n",
    "ds_jobs_transformed['relevant_experience'] = ds_jobs_transformed['relevant_experience'].map({'Has relevant experience': True, 'No relevant experience': False})\n",
    "ds_jobs_transformed['job_change'] = ds_jobs_transformed['job_change'].map({1: True, 0: False})"
   ]
  },
  {
   "cell_type": "code",
   "execution_count": 10,
   "metadata": {},
   "outputs": [
    {
     "name": "stdout",
     "output_type": "stream",
     "text": [
      "relevant_experience:  [ True False]\n",
      "job_change:  [ True False]\n"
     ]
    }
   ],
   "source": [
    "print(\"relevant_experience: \", ds_jobs_transformed['relevant_experience'].unique())\n",
    "print(\"job_change: \", ds_jobs_transformed['job_change'].unique())"
   ]
  },
  {
   "cell_type": "code",
   "execution_count": 11,
   "metadata": {},
   "outputs": [
    {
     "name": "stdout",
     "output_type": "stream",
     "text": [
      "enrolled_university:  ['no_enrollment' 'Full time course' nan 'Part time course']\n",
      "enrolled_university:  0           no_enrollment\n",
      "1           no_enrollment\n",
      "2        Full time course\n",
      "3                     NaN\n",
      "4           no_enrollment\n",
      "               ...       \n",
      "19153       no_enrollment\n",
      "19154       no_enrollment\n",
      "19155       no_enrollment\n",
      "19156       no_enrollment\n",
      "19157       no_enrollment\n",
      "Name: enrolled_university, Length: 19158, dtype: category\n",
      "Categories (3, object): ['no_enrollment' < 'Part time course' < 'Full time course']\n"
     ]
    }
   ],
   "source": [
    "# Ordinal Data (converting to \"ordered category\")\n",
    "\n",
    "# enrolled_university\n",
    "print(\"enrolled_university: \", ds_jobs_transformed['enrolled_university'].unique())\n",
    "\n",
    "ls_enrolled_university_order = ['no_enrollment', 'Part time course', 'Full time course']\n",
    "\n",
    "ds_jobs_transformed['enrolled_university'] = pd.Categorical(ds_jobs_transformed['enrolled_university'], categories=ls_enrolled_university_order, ordered=True)\n",
    "\n",
    "print(\"enrolled_university: \", ds_jobs_transformed['enrolled_university'])"
   ]
  },
  {
   "cell_type": "code",
   "execution_count": 12,
   "metadata": {},
   "outputs": [
    {
     "name": "stdout",
     "output_type": "stream",
     "text": [
      "education_level:  ['Graduate' 'Masters' 'High School' nan 'Phd' 'Primary School']\n",
      "education_level:  0              Graduate\n",
      "1              Graduate\n",
      "2              Graduate\n",
      "3              Graduate\n",
      "4               Masters\n",
      "              ...      \n",
      "19153          Graduate\n",
      "19154          Graduate\n",
      "19155          Graduate\n",
      "19156       High School\n",
      "19157    Primary School\n",
      "Name: education_level, Length: 19158, dtype: category\n",
      "Categories (5, object): ['Primary School' < 'High School' < 'Graduate' < 'Masters' < 'Phd']\n"
     ]
    }
   ],
   "source": [
    "# education_level\n",
    "\n",
    "print(\"education_level: \", ds_jobs_transformed['education_level'].unique())\n",
    "\n",
    "ls_education_level_order = ['Primary School', 'High School', 'Graduate', 'Masters', 'Phd']\n",
    "\n",
    "ds_jobs_transformed['education_level'] = pd.Categorical(ds_jobs_transformed['education_level'], categories=ls_education_level_order, ordered=True)\n",
    "\n",
    "print(\"education_level: \", ds_jobs_transformed['education_level'])"
   ]
  },
  {
   "cell_type": "code",
   "execution_count": 13,
   "metadata": {},
   "outputs": [
    {
     "name": "stdout",
     "output_type": "stream",
     "text": [
      "experience:  ['>20' '15' '5' '<1' '11' '13' '7' '17' '2' '16' '1' '4' '10' '14' '18'\n",
      " '19' '12' '3' '6' '9' '8' '20' nan]\n",
      "experience:  0        >20\n",
      "1         15\n",
      "2          5\n",
      "3         <1\n",
      "4        >20\n",
      "        ... \n",
      "19153     14\n",
      "19154     14\n",
      "19155    >20\n",
      "19156     <1\n",
      "19157      2\n",
      "Name: experience, Length: 19158, dtype: category\n",
      "Categories (22, object): ['<1' < '1' < '2' < '3' ... '18' < '19' < '20' < '>20']\n"
     ]
    }
   ],
   "source": [
    "# experience\n",
    "print(\"experience: \", ds_jobs_transformed['experience'].unique())\n",
    "\n",
    "ls_experience_order = ['<1', '1', '2', '3', '4', '5', '6', '7', '8', '9', '10', '11', '12', '13', '14', '15', '16', '17', '18', '19', '20', '>20']\n",
    "\n",
    "ds_jobs_transformed['experience'] = pd.Categorical(ds_jobs_transformed['experience'], categories=ls_experience_order, ordered=True)\n",
    "\n",
    "print(\"experience: \", ds_jobs_transformed['experience'])"
   ]
  },
  {
   "cell_type": "code",
   "execution_count": 14,
   "metadata": {},
   "outputs": [
    {
     "name": "stdout",
     "output_type": "stream",
     "text": [
      "company_size:  [nan '50-99' '<10' '10000+' '5000-9999' '1000-4999' '10-49' '100-499'\n",
      " '500-999']\n",
      "company_size:  0            NaN\n",
      "1          50-99\n",
      "2            NaN\n",
      "3            NaN\n",
      "4          50-99\n",
      "          ...   \n",
      "19153        NaN\n",
      "19154        NaN\n",
      "19155      50-99\n",
      "19156    500-999\n",
      "19157        NaN\n",
      "Name: company_size, Length: 19158, dtype: category\n",
      "Categories (8, object): ['<10' < '10/49' < '50-99' < '100-500' < '500-999' < '1000-4999' < '5000-9999' < '10000+']\n"
     ]
    }
   ],
   "source": [
    "# company_size\n",
    "print(\"company_size: \", ds_jobs_transformed['company_size'].unique())\n",
    "\n",
    "ls_company_size_order = ['<10', '10/49', '50-99', '100-500', '500-999', '1000-4999', '5000-9999', '10000+']\n",
    "\n",
    "ds_jobs_transformed['company_size'] = pd.Categorical(ds_jobs_transformed['company_size'], categories=ls_company_size_order, ordered=True)\n",
    "\n",
    "print(\"company_size: \", ds_jobs_transformed['company_size'])"
   ]
  },
  {
   "cell_type": "code",
   "execution_count": 15,
   "metadata": {},
   "outputs": [
    {
     "name": "stdout",
     "output_type": "stream",
     "text": [
      "last_new_job:  ['1' '>4' 'never' '4' '3' '2' nan]\n",
      "last_new_job:  0            1\n",
      "1           >4\n",
      "2        never\n",
      "3        never\n",
      "4            4\n",
      "         ...  \n",
      "19153        1\n",
      "19154        4\n",
      "19155        4\n",
      "19156        2\n",
      "19157        1\n",
      "Name: last_new_job, Length: 19158, dtype: category\n",
      "Categories (6, object): ['never' < '1' < '2' < '3' < '4' < '>4']\n"
     ]
    }
   ],
   "source": [
    "# last_new_job\n",
    "print(\"last_new_job: \", ds_jobs_transformed['last_new_job'].unique())\n",
    "\n",
    "ls_last_new_job_order = ['never', '1', '2', '3', '4', '>4']\n",
    "\n",
    "ds_jobs_transformed['last_new_job'] = pd.Categorical(ds_jobs_transformed['last_new_job'], categories=ls_last_new_job_order, ordered=True)\n",
    "\n",
    "print(\"last_new_job: \", ds_jobs_transformed['last_new_job'])"
   ]
  },
  {
   "cell_type": "code",
   "execution_count": 16,
   "metadata": {},
   "outputs": [
    {
     "name": "stdout",
     "output_type": "stream",
     "text": [
      "<class 'pandas.core.frame.DataFrame'>\n",
      "RangeIndex: 19158 entries, 0 to 19157\n",
      "Data columns (total 4 columns):\n",
      " #   Column            Non-Null Count  Dtype   \n",
      "---  ------            --------------  -----   \n",
      " 0   city              19158 non-null  category\n",
      " 1   gender            14650 non-null  category\n",
      " 2   major_discipline  16345 non-null  category\n",
      " 3   company_type      13018 non-null  category\n",
      "dtypes: category(4)\n",
      "memory usage: 80.6 KB\n"
     ]
    }
   ],
   "source": [
    "# Nominal Data (converting to \"category\")\n",
    "\n",
    "ls_categorical_no_order = ['city', 'gender', 'major_discipline', 'company_type']\n",
    "\n",
    "for col in ls_categorical_no_order:\n",
    "    ds_jobs_transformed[col] = ds_jobs_transformed[col].astype('category')\n",
    "\n",
    "# Check the data types of the transformed dataset\n",
    "ds_jobs_transformed[ls_categorical_no_order].info()\n",
    "\n"
   ]
  },
  {
   "cell_type": "markdown",
   "metadata": {},
   "source": [
    "### Business Goal\n",
    "\n",
    "This recruitment company wants to focus on:\n",
    "* more experienced professionals\n",
    "* enterprise companies\n",
    "\n",
    "Therefore, the DataFrame should be filtered to only contain:\n",
    "* 'experience' >= 10 year\n",
    "* 'company_size' >= 1000 employees "
   ]
  },
  {
   "cell_type": "code",
   "execution_count": 17,
   "metadata": {},
   "outputs": [],
   "source": [
    "# Filtering dataset for business goals\n",
    "ds_jobs_transformed = ds_jobs_transformed[\n",
    "    (ds_jobs_transformed['experience'] >= '10') & \n",
    "    (ds_jobs_transformed['company_size'] >= '1000-4999')\n",
    "]\n"
   ]
  },
  {
   "cell_type": "markdown",
   "metadata": {},
   "source": [
    "### Checking Efficiency: Memory Usage (Old Dataframe vs. New Dataframe)"
   ]
  },
  {
   "cell_type": "code",
   "execution_count": 18,
   "metadata": {},
   "outputs": [
    {
     "name": "stdout",
     "output_type": "stream",
     "text": [
      "Original DataFrame memory usage: 10.51 MB\n",
      "Transformed DataFrame memory usage: 0.08 MB\n"
     ]
    }
   ],
   "source": [
    "print(f\"Original DataFrame memory usage: {ds_jobs.memory_usage(deep=True).sum() / 1024 ** 2:.2f} MB\")\n",
    "print(f\"Transformed DataFrame memory usage: {ds_jobs_transformed.memory_usage(deep=True).sum() / 1024 ** 2:.2f} MB\")"
   ]
  }
 ],
 "metadata": {
  "kernelspec": {
   "display_name": ".venv",
   "language": "python",
   "name": "python3"
  },
  "language_info": {
   "codemirror_mode": {
    "name": "ipython",
    "version": 3
   },
   "file_extension": ".py",
   "mimetype": "text/x-python",
   "name": "python",
   "nbconvert_exporter": "python",
   "pygments_lexer": "ipython3",
   "version": "3.12.1"
  }
 },
 "nbformat": 4,
 "nbformat_minor": 2
}
